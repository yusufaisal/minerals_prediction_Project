{
 "cells": [
  {
   "cell_type": "code",
   "execution_count": 1,
   "metadata": {
    "collapsed": true
   },
   "outputs": [],
   "source": [
    "from method.class_JST import JST\n",
    "from method.class_GA import GeneticAlgorithm"
   ]
  },
  {
   "cell_type": "code",
   "execution_count": 2,
   "metadata": {},
   "outputs": [],
   "source": [
    "#### GA Setting ####\n",
    "GAsettings = {\n",
    "    \"Populations\"   : 200,\n",
    "    \"Generations\"   : 30,\n",
    "    \"Crossover\"     : True,\n",
    "    \"Mutation\"      : False,\n",
    "    \"Crossover Probability\" : 0.6,\n",
    "    \"Mutation Probability\"  : 0.8,\n",
    "    \"Production file\"   : \"Dataset/oil-production-tonnes.csv\",\n",
    "    \"Consumption file\"  : \"Dataset/oil-consumption-tonnes.csv\",\n",
    "    \"Class file\"    : \"Dataset/oil_class.csv\"\n",
    "}\n",
    "\n",
    "#### JST Setting ####\n",
    "JSTSettings = {\n",
    "    \"Dataset Path\"      : \"Dataset/coal-consumption-mtoe.csv\",\n",
    "    \"Model Filename\"    : \"JST Model/coal_consumption_model_By7.sav\",\n",
    "    \"Load Model\"        : False,\n",
    "    \"Save Model\"        : False,\n",
    "    \"Learning Verbose\"  : True,\n",
    "    \"Predict By\"        : 7,  #7, 5, or 3(default)\n",
    "    \"Show Plot\"         : True\n",
    "}"
   ]
  },
  {
   "cell_type": "code",
   "execution_count": 3,
   "metadata": {
    "collapsed": false
   },
   "outputs": [],
   "source": [
    "# jst = JST(**JSTSettings)\n",
    "# jst.run()\n",
    "\n",
    "ga = GeneticAlgorithm(**GAsettings)"
   ]
  },
  {
   "cell_type": "code",
   "execution_count": 4,
   "metadata": {},
   "outputs": [
    {
     "name": "stdout",
     "output_type": "stream",
     "text": [
      "[[14, 29, 31, 33, 43, 99], [12, 40, 53, 70, 71, 88], [0.14156346846737755, 0.3345333738996831, 0.980637085798265], [[1, 0, 2, 1], [0, 2, 0, 1], [2, 2, 1, 1], [2, 2, 1, 0]]] 20.454545454545457\n20.454545454545457\n"
     ]
    }
   ],
   "source": [
    "\n",
    "\n",
    "\n",
    "\n",
    "\n"
   ]
  },
  {
   "cell_type": "code",
   "execution_count": 17,
   "metadata": {},
   "outputs": [],
   "source": []
  },
  {
   "cell_type": "code",
   "execution_count": null,
   "metadata": {},
   "outputs": [],
   "source": []
  }
 ],
 "metadata": {
  "kernelspec": {
   "display_name": "Python 2",
   "language": "python",
   "name": "python2"
  },
  "language_info": {
   "codemirror_mode": {
    "name": "ipython",
    "version": 2
   },
   "file_extension": ".py",
   "mimetype": "text/x-python",
   "name": "python",
   "nbconvert_exporter": "python",
   "pygments_lexer": "ipython2",
   "version": "2.7.6"
  }
 },
 "nbformat": 4,
 "nbformat_minor": 0
}
