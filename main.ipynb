{
 "cells": [
  {
   "cell_type": "code",
   "execution_count": 2,
   "metadata": {
    "collapsed": true
   },
   "outputs": [],
   "source": [
    "from class_GA import GeneticAlgorithm\n",
    "from class_JST import JST\n",
    "from class_FIS import Fuzzy"
   ]
  },
  {
   "cell_type": "code",
   "execution_count": null,
   "metadata": {},
   "outputs": [],
   "source": [
    "#### GA Setting ####\n",
    "GAsettings = {\n",
    "    \"Populations\"   : 8,\n",
    "    \"Generations\"   : 12,\n",
    "    \"Max Number\"    : 99,\n",
    "    \"Crossover\"     : True,\n",
    "    \"Mutation\"      : True,\n",
    "    \"Crossover Probability\" : 0.6,\n",
    "    \"Mutation Probability\"  : 0.8\n",
    "    # \"Kromosom\"      : 12,\n",
    "    # \"Replacement Strategy\"  : \"Steadystate\"  # steadystate or elitism\n",
    "}\n",
    "\n",
    "#### JST Setting ####\n",
    "JSTSettings = {\n",
    "    \"Dataset Path\"      : \"Dataset/oil-consumption-tonnes.csv\",\n",
    "    \"Model Filename\"    : \"JST Model/oil_consumption_model_By5.sav\",\n",
    "    \"Load Model\"        : True,\n",
    "    \"Save Model\"        : False,\n",
    "    \"Learning Verbose\"  : True,\n",
    "    \"Predict By\"        : 5,  #5 or 3(default)\n",
    "    \"Show Plot\"         : True\n",
    "}"
   ]
  },
  {
   "cell_type": "code",
   "execution_count": 7,
   "metadata": {
    "collapsed": false
   },
   "outputs": [
    {
     "name": "stdout",
     "output_type": "stream",
     "text": [
      "Load Dataset...........Done!\nLoss : 3.1823900322093297\nMAPE : 9.032388868723208\n"
     ]
    }
   ],
   "source": [
    "if __name__==\"__main__\":\n",
    "\n",
    "    jst = JST(**JSTSettings)\n",
    "    jst.run()\n",
    "\n",
    "    # ga = GeneticAlgorithm(**GAsettings)\n",
    "    # ga.run()\n",
    "\n",
    "    # FIZ = Fuzzy([[8, 33], [8, 28], [35, 55], [5, 52], [[[0, 0], [1, 0]], [[0, 1], [1, 0]]]])\n",
    "    # FIZ.run(11,20,20)"
   ]
  },
  {
   "cell_type": "code",
   "execution_count": null,
   "metadata": {},
   "outputs": [],
   "source": [
    ""
   ]
  }
 ],
 "metadata": {
  "kernelspec": {
   "display_name": "Python 2",
   "language": "python",
   "name": "python2"
  },
  "language_info": {
   "codemirror_mode": {
    "name": "ipython",
    "version": 2
   },
   "file_extension": ".py",
   "mimetype": "text/x-python",
   "name": "python",
   "nbconvert_exporter": "python",
   "pygments_lexer": "ipython2",
   "version": "2.7.6"
  }
 },
 "nbformat": 4,
 "nbformat_minor": 0
}
